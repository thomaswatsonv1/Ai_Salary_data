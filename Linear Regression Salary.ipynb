{
 "cells": [
  {
   "cell_type": "markdown",
   "id": "38986f85",
   "metadata": {},
   "source": [
    "# Simple Linear regression model on Salary data\n",
    "\n",
    "To get started we will ensure that the required libraries are available:"
   ]
  },
  {
   "cell_type": "code",
   "execution_count": null,
   "id": "b6daaa91",
   "metadata": {},
   "outputs": [],
   "source": [
    "\n",
    "%pip install pip --upgrade pip\n",
    "%pip install numpy\n",
    "%pip install pandas\n",
    "%pip install scipy\n",
    "%pip install scikit-learn\n",
    "%pip install matplotlib\n",
    "%pip install seaborn"
   ]
  },
  {
   "cell_type": "markdown",
   "id": "3a074437",
   "metadata": {},
   "source": [
    "Next we will import our various libraries. It may be necessary to add others as we run the notebook."
   ]
  },
  {
   "cell_type": "code",
   "execution_count": null,
   "id": "c152299e",
   "metadata": {},
   "outputs": [],
   "source": [
    "import numpy as np\n",
    "import pandas as pd\n",
    "import matplotlib.pyplot as plt\n",
    "import seaborn as sb\n",
    "\n",
    "pd.options.mode.copy_on_write = True # This will stop a warning when cleaning our data later in the notebook"
   ]
  },
  {
   "cell_type": "markdown",
   "id": "ef4748ac",
   "metadata": {},
   "source": [
    "## Import our data\n",
    "\n",
    "We will now import the data from the CSV file. The column headings are in row 0."
   ]
  },
  {
   "cell_type": "code",
   "execution_count": 76,
   "id": "947c7190",
   "metadata": {},
   "outputs": [],
   "source": [
    "df = pd.read_csv('ai_job_dataset.csv', header = 0)"
   ]
  },
  {
   "cell_type": "markdown",
   "id": "7e61aa81",
   "metadata": {},
   "source": [
    "Let us see what the data looks like in the data frame.\n",
    "To get an overall view of the data frame we ill use the various tools pandas gives us: head(), info(), describe() and shape:"
   ]
  },
  {
   "cell_type": "code",
   "execution_count": 77,
   "id": "b7671092",
   "metadata": {},
   "outputs": [
    {
     "data": {
      "text/html": [
       "<div>\n",
       "<style scoped>\n",
       "    .dataframe tbody tr th:only-of-type {\n",
       "        vertical-align: middle;\n",
       "    }\n",
       "\n",
       "    .dataframe tbody tr th {\n",
       "        vertical-align: top;\n",
       "    }\n",
       "\n",
       "    .dataframe thead th {\n",
       "        text-align: right;\n",
       "    }\n",
       "</style>\n",
       "<table border=\"1\" class=\"dataframe\">\n",
       "  <thead>\n",
       "    <tr style=\"text-align: right;\">\n",
       "      <th></th>\n",
       "      <th>job_id</th>\n",
       "      <th>job_title</th>\n",
       "      <th>salary_usd</th>\n",
       "      <th>salary_currency</th>\n",
       "      <th>experience_level</th>\n",
       "      <th>employment_type</th>\n",
       "      <th>company_location</th>\n",
       "      <th>company_size</th>\n",
       "      <th>employee_residence</th>\n",
       "      <th>remote_ratio</th>\n",
       "      <th>required_skills</th>\n",
       "      <th>education_required</th>\n",
       "      <th>years_experience</th>\n",
       "      <th>industry</th>\n",
       "      <th>posting_date</th>\n",
       "      <th>application_deadline</th>\n",
       "      <th>job_description_length</th>\n",
       "      <th>benefits_score</th>\n",
       "      <th>company_name</th>\n",
       "    </tr>\n",
       "  </thead>\n",
       "  <tbody>\n",
       "    <tr>\n",
       "      <th>0</th>\n",
       "      <td>AI00001</td>\n",
       "      <td>AI Research Scientist</td>\n",
       "      <td>90376</td>\n",
       "      <td>USD</td>\n",
       "      <td>SE</td>\n",
       "      <td>CT</td>\n",
       "      <td>China</td>\n",
       "      <td>M</td>\n",
       "      <td>China</td>\n",
       "      <td>50</td>\n",
       "      <td>Tableau, PyTorch, Kubernetes, Linux, NLP</td>\n",
       "      <td>Bachelor</td>\n",
       "      <td>9</td>\n",
       "      <td>Automotive</td>\n",
       "      <td>2024-10-18</td>\n",
       "      <td>2024-11-07</td>\n",
       "      <td>1076</td>\n",
       "      <td>5.9</td>\n",
       "      <td>Smart Analytics</td>\n",
       "    </tr>\n",
       "    <tr>\n",
       "      <th>1</th>\n",
       "      <td>AI00002</td>\n",
       "      <td>AI Software Engineer</td>\n",
       "      <td>61895</td>\n",
       "      <td>USD</td>\n",
       "      <td>EN</td>\n",
       "      <td>CT</td>\n",
       "      <td>Canada</td>\n",
       "      <td>M</td>\n",
       "      <td>Ireland</td>\n",
       "      <td>100</td>\n",
       "      <td>Deep Learning, AWS, Mathematics, Python, Docker</td>\n",
       "      <td>Master</td>\n",
       "      <td>1</td>\n",
       "      <td>Media</td>\n",
       "      <td>2024-11-20</td>\n",
       "      <td>2025-01-11</td>\n",
       "      <td>1268</td>\n",
       "      <td>5.2</td>\n",
       "      <td>TechCorp Inc</td>\n",
       "    </tr>\n",
       "    <tr>\n",
       "      <th>2</th>\n",
       "      <td>AI00003</td>\n",
       "      <td>AI Specialist</td>\n",
       "      <td>152626</td>\n",
       "      <td>USD</td>\n",
       "      <td>MI</td>\n",
       "      <td>FL</td>\n",
       "      <td>Switzerland</td>\n",
       "      <td>L</td>\n",
       "      <td>South Korea</td>\n",
       "      <td>0</td>\n",
       "      <td>Kubernetes, Deep Learning, Java, Hadoop, NLP</td>\n",
       "      <td>Associate</td>\n",
       "      <td>2</td>\n",
       "      <td>Education</td>\n",
       "      <td>2025-03-18</td>\n",
       "      <td>2025-04-07</td>\n",
       "      <td>1974</td>\n",
       "      <td>9.4</td>\n",
       "      <td>Autonomous Tech</td>\n",
       "    </tr>\n",
       "    <tr>\n",
       "      <th>3</th>\n",
       "      <td>AI00004</td>\n",
       "      <td>NLP Engineer</td>\n",
       "      <td>80215</td>\n",
       "      <td>USD</td>\n",
       "      <td>SE</td>\n",
       "      <td>FL</td>\n",
       "      <td>India</td>\n",
       "      <td>M</td>\n",
       "      <td>India</td>\n",
       "      <td>50</td>\n",
       "      <td>Scala, SQL, Linux, Python</td>\n",
       "      <td>PhD</td>\n",
       "      <td>7</td>\n",
       "      <td>Consulting</td>\n",
       "      <td>2024-12-23</td>\n",
       "      <td>2025-02-24</td>\n",
       "      <td>1345</td>\n",
       "      <td>8.6</td>\n",
       "      <td>Future Systems</td>\n",
       "    </tr>\n",
       "    <tr>\n",
       "      <th>4</th>\n",
       "      <td>AI00005</td>\n",
       "      <td>AI Consultant</td>\n",
       "      <td>54624</td>\n",
       "      <td>EUR</td>\n",
       "      <td>EN</td>\n",
       "      <td>PT</td>\n",
       "      <td>France</td>\n",
       "      <td>S</td>\n",
       "      <td>Singapore</td>\n",
       "      <td>100</td>\n",
       "      <td>MLOps, Java, Tableau, Python</td>\n",
       "      <td>Master</td>\n",
       "      <td>0</td>\n",
       "      <td>Media</td>\n",
       "      <td>2025-04-15</td>\n",
       "      <td>2025-06-23</td>\n",
       "      <td>1989</td>\n",
       "      <td>6.6</td>\n",
       "      <td>Advanced Robotics</td>\n",
       "    </tr>\n",
       "  </tbody>\n",
       "</table>\n",
       "</div>"
      ],
      "text/plain": [
       "    job_id              job_title  salary_usd salary_currency  \\\n",
       "0  AI00001  AI Research Scientist       90376             USD   \n",
       "1  AI00002   AI Software Engineer       61895             USD   \n",
       "2  AI00003          AI Specialist      152626             USD   \n",
       "3  AI00004           NLP Engineer       80215             USD   \n",
       "4  AI00005          AI Consultant       54624             EUR   \n",
       "\n",
       "  experience_level employment_type company_location company_size  \\\n",
       "0               SE              CT            China            M   \n",
       "1               EN              CT           Canada            M   \n",
       "2               MI              FL      Switzerland            L   \n",
       "3               SE              FL            India            M   \n",
       "4               EN              PT           France            S   \n",
       "\n",
       "  employee_residence  remote_ratio  \\\n",
       "0              China            50   \n",
       "1            Ireland           100   \n",
       "2        South Korea             0   \n",
       "3              India            50   \n",
       "4          Singapore           100   \n",
       "\n",
       "                                   required_skills education_required  \\\n",
       "0         Tableau, PyTorch, Kubernetes, Linux, NLP           Bachelor   \n",
       "1  Deep Learning, AWS, Mathematics, Python, Docker             Master   \n",
       "2     Kubernetes, Deep Learning, Java, Hadoop, NLP          Associate   \n",
       "3                        Scala, SQL, Linux, Python                PhD   \n",
       "4                     MLOps, Java, Tableau, Python             Master   \n",
       "\n",
       "   years_experience    industry posting_date application_deadline  \\\n",
       "0                 9  Automotive   2024-10-18           2024-11-07   \n",
       "1                 1       Media   2024-11-20           2025-01-11   \n",
       "2                 2   Education   2025-03-18           2025-04-07   \n",
       "3                 7  Consulting   2024-12-23           2025-02-24   \n",
       "4                 0       Media   2025-04-15           2025-06-23   \n",
       "\n",
       "   job_description_length  benefits_score       company_name  \n",
       "0                    1076             5.9    Smart Analytics  \n",
       "1                    1268             5.2       TechCorp Inc  \n",
       "2                    1974             9.4    Autonomous Tech  \n",
       "3                    1345             8.6     Future Systems  \n",
       "4                    1989             6.6  Advanced Robotics  "
      ]
     },
     "execution_count": 77,
     "metadata": {},
     "output_type": "execute_result"
    }
   ],
   "source": [
    "df.head()"
   ]
  },
  {
   "cell_type": "code",
   "execution_count": 78,
   "id": "b62a4614",
   "metadata": {},
   "outputs": [
    {
     "name": "stdout",
     "output_type": "stream",
     "text": [
      "<class 'pandas.core.frame.DataFrame'>\n",
      "RangeIndex: 15000 entries, 0 to 14999\n",
      "Data columns (total 19 columns):\n",
      " #   Column                  Non-Null Count  Dtype  \n",
      "---  ------                  --------------  -----  \n",
      " 0   job_id                  15000 non-null  object \n",
      " 1   job_title               15000 non-null  object \n",
      " 2   salary_usd              15000 non-null  int64  \n",
      " 3   salary_currency         15000 non-null  object \n",
      " 4   experience_level        15000 non-null  object \n",
      " 5   employment_type         15000 non-null  object \n",
      " 6   company_location        15000 non-null  object \n",
      " 7   company_size            15000 non-null  object \n",
      " 8   employee_residence      15000 non-null  object \n",
      " 9   remote_ratio            15000 non-null  int64  \n",
      " 10  required_skills         15000 non-null  object \n",
      " 11  education_required      15000 non-null  object \n",
      " 12  years_experience        15000 non-null  int64  \n",
      " 13  industry                15000 non-null  object \n",
      " 14  posting_date            15000 non-null  object \n",
      " 15  application_deadline    15000 non-null  object \n",
      " 16  job_description_length  15000 non-null  int64  \n",
      " 17  benefits_score          15000 non-null  float64\n",
      " 18  company_name            15000 non-null  object \n",
      "dtypes: float64(1), int64(4), object(14)\n",
      "memory usage: 2.2+ MB\n"
     ]
    }
   ],
   "source": [
    "df.info()"
   ]
  },
  {
   "cell_type": "markdown",
   "id": "f490247b",
   "metadata": {},
   "source": [
    "## Cleaning our data\n",
    "\n",
    "In the data frame above, we have a lot of data that is not relevant to my business objective.\n",
    "For example, I am not interested in the 'company_name', the 'job_id', 'posting_date' and 'application_deadline' columns amongst others."
   ]
  },
  {
   "cell_type": "code",
   "execution_count": 79,
   "id": "62706d0a",
   "metadata": {},
   "outputs": [
    {
     "name": "stdout",
     "output_type": "stream",
     "text": [
      "<class 'pandas.core.frame.DataFrame'>\n",
      "RangeIndex: 15000 entries, 0 to 14999\n",
      "Data columns (total 15 columns):\n",
      " #   Column                  Non-Null Count  Dtype  \n",
      "---  ------                  --------------  -----  \n",
      " 0   job_title               15000 non-null  object \n",
      " 1   salary_usd              15000 non-null  int64  \n",
      " 2   salary_currency         15000 non-null  object \n",
      " 3   experience_level        15000 non-null  object \n",
      " 4   employment_type         15000 non-null  object \n",
      " 5   company_location        15000 non-null  object \n",
      " 6   company_size            15000 non-null  object \n",
      " 7   employee_residence      15000 non-null  object \n",
      " 8   remote_ratio            15000 non-null  int64  \n",
      " 9   required_skills         15000 non-null  object \n",
      " 10  education_required      15000 non-null  object \n",
      " 11  years_experience        15000 non-null  int64  \n",
      " 12  industry                15000 non-null  object \n",
      " 13  job_description_length  15000 non-null  int64  \n",
      " 14  benefits_score          15000 non-null  float64\n",
      "dtypes: float64(1), int64(4), object(10)\n",
      "memory usage: 1.7+ MB\n"
     ]
    }
   ],
   "source": [
    "df_dropped = df.drop(columns = ['job_id', 'company_name', 'posting_date', 'application_deadline'], axis=1)\n",
    "df_dropped.info()"
   ]
  },
  {
   "cell_type": "markdown",
   "id": "3960b3f7",
   "metadata": {},
   "source": [
    "With the 'salary_currency' column, we have this in USD already and we will keep the 'company_location' so we can stick to a like-for like comparison. Since we know where the company will be paying its employees, we can convert the salary to a local figure later if necessary.\n",
    "\n",
    "I also want to make things more specific to Version 1 and the business objective we are trying to achieve.\n",
    "\n",
    "I believe that we are more concerned with the business location of the company,(i.e. its 'territory'), so we will keep the 'company_location' column, but since an employee will have to work from one of our offices we do not require 'employee_residence'. Version 1 also deals across industries as a consultancy so the 'industry' column can also be dropped. "
   ]
  },
  {
   "cell_type": "code",
   "execution_count": 118,
   "id": "41b827c7",
   "metadata": {},
   "outputs": [
    {
     "name": "stdout",
     "output_type": "stream",
     "text": [
      "<class 'pandas.core.frame.DataFrame'>\n",
      "RangeIndex: 15000 entries, 0 to 14999\n",
      "Data columns (total 8 columns):\n",
      " #   Column            Non-Null Count  Dtype  \n",
      "---  ------            --------------  -----  \n",
      " 0   job_title         15000 non-null  object \n",
      " 1   salary_usd        15000 non-null  int64  \n",
      " 2   experience_level  15000 non-null  object \n",
      " 3   employment_type   15000 non-null  object \n",
      " 4   company_location  15000 non-null  object \n",
      " 5   company_size      15000 non-null  object \n",
      " 6   years_experience  15000 non-null  int64  \n",
      " 7   benefits_score    15000 non-null  float64\n",
      "dtypes: float64(1), int64(2), object(5)\n",
      "memory usage: 937.6+ KB\n"
     ]
    }
   ],
   "source": [
    "df_reduced = df_dropped.drop(columns = ['salary_currency', 'remote_ratio', 'employee_residence', 'required_skills', 'education_required', 'job_description_length', 'industry'], axis=1)\n",
    "df_reduced.info()"
   ]
  },
  {
   "cell_type": "markdown",
   "id": "27b06829",
   "metadata": {},
   "source": [
    "We have removed some columns that aren't relevant and have kept those that will be of use.\n",
    "If we compare memory usage, we have cut this approximately in half ( 2.2Mb to approx 1.1Mb)\n",
    "\n",
    "Our reduced column data now looks like this:"
   ]
  },
  {
   "cell_type": "code",
   "execution_count": 119,
   "id": "e580bb46",
   "metadata": {},
   "outputs": [
    {
     "data": {
      "text/html": [
       "<div>\n",
       "<style scoped>\n",
       "    .dataframe tbody tr th:only-of-type {\n",
       "        vertical-align: middle;\n",
       "    }\n",
       "\n",
       "    .dataframe tbody tr th {\n",
       "        vertical-align: top;\n",
       "    }\n",
       "\n",
       "    .dataframe thead th {\n",
       "        text-align: right;\n",
       "    }\n",
       "</style>\n",
       "<table border=\"1\" class=\"dataframe\">\n",
       "  <thead>\n",
       "    <tr style=\"text-align: right;\">\n",
       "      <th></th>\n",
       "      <th>salary_usd</th>\n",
       "      <th>years_experience</th>\n",
       "      <th>benefits_score</th>\n",
       "    </tr>\n",
       "  </thead>\n",
       "  <tbody>\n",
       "    <tr>\n",
       "      <th>count</th>\n",
       "      <td>15000.000000</td>\n",
       "      <td>15000.000000</td>\n",
       "      <td>15000.000000</td>\n",
       "    </tr>\n",
       "    <tr>\n",
       "      <th>mean</th>\n",
       "      <td>115348.965133</td>\n",
       "      <td>6.253200</td>\n",
       "      <td>7.504273</td>\n",
       "    </tr>\n",
       "    <tr>\n",
       "      <th>std</th>\n",
       "      <td>60260.940438</td>\n",
       "      <td>5.545768</td>\n",
       "      <td>1.450870</td>\n",
       "    </tr>\n",
       "    <tr>\n",
       "      <th>min</th>\n",
       "      <td>32519.000000</td>\n",
       "      <td>0.000000</td>\n",
       "      <td>5.000000</td>\n",
       "    </tr>\n",
       "    <tr>\n",
       "      <th>25%</th>\n",
       "      <td>70179.750000</td>\n",
       "      <td>2.000000</td>\n",
       "      <td>6.200000</td>\n",
       "    </tr>\n",
       "    <tr>\n",
       "      <th>50%</th>\n",
       "      <td>99705.000000</td>\n",
       "      <td>5.000000</td>\n",
       "      <td>7.500000</td>\n",
       "    </tr>\n",
       "    <tr>\n",
       "      <th>75%</th>\n",
       "      <td>146408.500000</td>\n",
       "      <td>10.000000</td>\n",
       "      <td>8.800000</td>\n",
       "    </tr>\n",
       "    <tr>\n",
       "      <th>max</th>\n",
       "      <td>399095.000000</td>\n",
       "      <td>19.000000</td>\n",
       "      <td>10.000000</td>\n",
       "    </tr>\n",
       "  </tbody>\n",
       "</table>\n",
       "</div>"
      ],
      "text/plain": [
       "          salary_usd  years_experience  benefits_score\n",
       "count   15000.000000      15000.000000    15000.000000\n",
       "mean   115348.965133          6.253200        7.504273\n",
       "std     60260.940438          5.545768        1.450870\n",
       "min     32519.000000          0.000000        5.000000\n",
       "25%     70179.750000          2.000000        6.200000\n",
       "50%     99705.000000          5.000000        7.500000\n",
       "75%    146408.500000         10.000000        8.800000\n",
       "max    399095.000000         19.000000       10.000000"
      ]
     },
     "execution_count": 119,
     "metadata": {},
     "output_type": "execute_result"
    }
   ],
   "source": [
    "df_reduced.describe()"
   ]
  },
  {
   "cell_type": "code",
   "execution_count": 120,
   "id": "705622f5",
   "metadata": {},
   "outputs": [
    {
     "data": {
      "text/plain": [
       "(15000, 8)"
      ]
     },
     "execution_count": 120,
     "metadata": {},
     "output_type": "execute_result"
    }
   ],
   "source": [
    "df_reduced.shape"
   ]
  },
  {
   "cell_type": "markdown",
   "id": "9b9e1781",
   "metadata": {},
   "source": [
    "Having removed the irrelevant columns, we can check the data itself. We can look for Null (missing) data and duplicate entries: "
   ]
  },
  {
   "cell_type": "code",
   "execution_count": 128,
   "id": "1bda836b",
   "metadata": {},
   "outputs": [
    {
     "name": "stdout",
     "output_type": "stream",
     "text": [
      "Columns    -> missing values:\n"
     ]
    },
    {
     "data": {
      "text/plain": [
       "job_title              0\n",
       "salary_usd             0\n",
       "experience_level       0\n",
       "employment_type        0\n",
       "company_location       0\n",
       "company_size           0\n",
       "years_experience       0\n",
       "benefits_score         0\n",
       "suitable_roles      1519\n",
       "dtype: int64"
      ]
     },
     "execution_count": 128,
     "metadata": {},
     "output_type": "execute_result"
    }
   ],
   "source": [
    "print(\"Columns    -> missing values:\")\n",
    "df_reduced.isnull().sum()"
   ]
  },
  {
   "cell_type": "code",
   "execution_count": 129,
   "id": "65013c57",
   "metadata": {},
   "outputs": [
    {
     "name": "stdout",
     "output_type": "stream",
     "text": [
      "Number of duplicate rows: 0\n",
      "<bound method DataFrame.dropna of                          job_title  salary_usd experience_level  \\\n",
      "0            AI Research Scientist       90376               SE   \n",
      "1             AI Software Engineer       61895               EN   \n",
      "2                    AI Specialist      152626               MI   \n",
      "3                     NLP Engineer       80215               SE   \n",
      "4                    AI Consultant       54624               EN   \n",
      "...                            ...         ...              ...   \n",
      "14995            Robotics Engineer       38604               EN   \n",
      "14996  Machine Learning Researcher       57811               EN   \n",
      "14997                 NLP Engineer      189490               EX   \n",
      "14998                   Head of AI       79461               EN   \n",
      "14999     Computer Vision Engineer       56481               MI   \n",
      "\n",
      "      employment_type company_location company_size  years_experience  \\\n",
      "0                  CT            China            M                 9   \n",
      "1                  CT           Canada            M                 1   \n",
      "2                  FL      Switzerland            L                 2   \n",
      "3                  FL            India            M                 7   \n",
      "4                  PT           France            S                 0   \n",
      "...               ...              ...          ...               ...   \n",
      "14995              FL          Finland            S                 1   \n",
      "14996              CT   United Kingdom            M                 0   \n",
      "14997              CT      South Korea            L                17   \n",
      "14998              FT      Netherlands            M                 1   \n",
      "14999              PT          Austria            S                 2   \n",
      "\n",
      "       benefits_score suitable_roles  \n",
      "0                 5.9        Include  \n",
      "1                 5.2        Include  \n",
      "2                 9.4        Include  \n",
      "3                 8.6        Include  \n",
      "4                 6.6        Include  \n",
      "...               ...            ...  \n",
      "14995             7.9        Exclude  \n",
      "14996             8.2        Include  \n",
      "14997             7.4        Include  \n",
      "14998             5.6        Include  \n",
      "14999             7.6        Include  \n",
      "\n",
      "[15000 rows x 9 columns]>\n"
     ]
    }
   ],
   "source": [
    "print(\"Number of duplicate rows:\", df_reduced.duplicated().sum())\n",
    "print(df_reduced.dropna) # sanity check for missing vlues"
   ]
  },
  {
   "cell_type": "markdown",
   "id": "148587bc",
   "metadata": {},
   "source": [
    "Looking at this latest output, we can see that there are some job titles which may not fit into our desired outcomes, for example, \"robotics engineer\" isn't a Version 1 job...\n",
    "Let's filter on job_title:"
   ]
  },
  {
   "cell_type": "code",
   "execution_count": 136,
   "id": "47e9d988",
   "metadata": {},
   "outputs": [
    {
     "name": "stdout",
     "output_type": "stream",
     "text": [
      "Included job_title values:\n",
      "['AI Research Scientist' 'AI Software Engineer' 'AI Specialist'\n",
      " 'NLP Engineer' 'AI Consultant' 'AI Architect' 'Principal Data Scientist'\n",
      " 'Data Analyst' 'AI Product Manager' 'Machine Learning Engineer'\n",
      " 'Data Engineer' 'ML Ops Engineer' 'Head of AI' 'Deep Learning Engineer'\n",
      " 'Data Scientist' 'Machine Learning Researcher' 'Computer Vision Engineer']\n",
      "Excluded job_title values:\n",
      "['Robotics Engineer']\n",
      "<class 'pandas.core.frame.DataFrame'>\n",
      "Index: 12722 entries, 0 to 14999\n",
      "Data columns (total 7 columns):\n",
      " #   Column            Non-Null Count  Dtype  \n",
      "---  ------            --------------  -----  \n",
      " 0   salary_usd        12722 non-null  int64  \n",
      " 1   experience_level  12722 non-null  object \n",
      " 2   employment_type   12722 non-null  object \n",
      " 3   company_location  12722 non-null  object \n",
      " 4   company_size      12722 non-null  object \n",
      " 5   years_experience  12722 non-null  int64  \n",
      " 6   benefits_score    12722 non-null  float64\n",
      "dtypes: float64(1), int64(2), object(4)\n",
      "memory usage: 795.1+ KB\n",
      "None\n"
     ]
    }
   ],
   "source": [
    "included_jobs = ['AI', 'NLP', 'ML', 'Data', 'Artificial Intelligence', 'Machine Learning', 'Computer Vision', 'Deep learning']\n",
    "excluded_jobs = ['Robotics']\n",
    "\n",
    "def filter_jobs(job_title):\n",
    "    job_lower = job_title.lower()\n",
    "    if any(ex.lower() in job_lower for ex in excluded_jobs):\n",
    "        return 'Exclude'\n",
    "    if any(inc.lower() in job_lower for inc in included_jobs):\n",
    "        return 'Include'\n",
    "    \n",
    "df_reduced['suitable_roles'] = df_reduced['job_title'].apply(filter_jobs)\n",
    "df_included_jobs = df_reduced[ df_reduced['suitable_roles'] == 'Include']\n",
    "df_excluded_jobs = df_reduced[ df_reduced['suitable_roles'] == 'Exclude']\n",
    "\n",
    "print(\"Included job_title values:\")\n",
    "print(df_included_jobs['job_title'].unique())\n",
    "\n",
    "print(\"Excluded job_title values:\")\n",
    "print(df_excluded_jobs['job_title'].unique())\n",
    "\n",
    "df_included_jobs = df_included_jobs.drop(columns = ['job_title', 'suitable_roles'])\n",
    "\n",
    "print(df_included_jobs.info())"
   ]
  },
  {
   "cell_type": "markdown",
   "id": "a0e3bcc5",
   "metadata": {},
   "source": [
    "Looking at the company locations, we can see where they fit with Version 1 offices. I will simplify this and include Canada as 'North America', EU and scandanavian countries as 'Europe', 'India' and 'United Kingdon' will stay the same and I will include Korea and Australia as Australasia. "
   ]
  },
  {
   "cell_type": "code",
   "execution_count": 137,
   "id": "7682c9f9",
   "metadata": {},
   "outputs": [
    {
     "name": "stdout",
     "output_type": "stream",
     "text": [
      "<class 'pandas.core.frame.DataFrame'>\n",
      "Index: 11452 entries, 1 to 14999\n",
      "Data columns (total 7 columns):\n",
      " #   Column            Non-Null Count  Dtype  \n",
      "---  ------            --------------  -----  \n",
      " 0   salary_usd        11452 non-null  int64  \n",
      " 1   experience_level  11452 non-null  object \n",
      " 2   employment_type   11452 non-null  object \n",
      " 3   company_size      11452 non-null  object \n",
      " 4   years_experience  11452 non-null  int64  \n",
      " 5   benefits_score    11452 non-null  float64\n",
      " 6   V1_office         11452 non-null  object \n",
      "dtypes: float64(1), int64(2), object(4)\n",
      "memory usage: 715.8+ KB\n"
     ]
    }
   ],
   "source": [
    "office_mappings = {\n",
    "    'North America': ['United States', 'US', 'USA', 'Canada'],\n",
    "    'Europe': ['Germany', 'France', 'Spain', 'Austria', 'Italy', 'Netherlands', 'Sweden', 'Norway', 'Denmark', 'Iceland', 'Ireland', 'Switzerland', 'Finland'],\n",
    "    'UK': ['United Kingdom', 'UK', 'Britain', 'Great Britain'],\n",
    "    'India': ['India'],\n",
    "    'Australasia': ['Australia', 'New Zealand', 'Korea', 'S. Korea', 'South Korea', 'Singapore', 'Japan']\n",
    "}\n",
    "\n",
    "def select_office(company_location):\n",
    "    for region, countries in office_mappings.items():\n",
    "        if company_location.strip().title() in [c.title() for c in countries]:\n",
    "            return region\n",
    "    return 'no_office'\n",
    "\n",
    "df_included_jobs['V1_office'] = df_included_jobs['company_location'].apply(select_office).copy()\n",
    "\n",
    "df_clean = df_included_jobs[df_included_jobs['V1_office'] != 'no_office'].copy()\n",
    "\n",
    "df_clean = df_clean.drop(columns = 'company_location')\n",
    "\n",
    "df_clean.info()"
   ]
  },
  {
   "cell_type": "markdown",
   "id": "8a8af52e",
   "metadata": {},
   "source": [
    "We can do the same with employmen_type as we are only interested in roles that are full-time, part-time or consultancy."
   ]
  },
  {
   "cell_type": "code",
   "execution_count": 163,
   "id": "d862c4f9",
   "metadata": {},
   "outputs": [
    {
     "name": "stdout",
     "output_type": "stream",
     "text": [
      "<class 'pandas.core.frame.DataFrame'>\n",
      "Index: 8625 entries, 1 to 14998\n",
      "Data columns (total 6 columns):\n",
      " #   Column            Non-Null Count  Dtype  \n",
      "---  ------            --------------  -----  \n",
      " 0   salary_usd        8625 non-null   int64  \n",
      " 1   experience_level  8625 non-null   object \n",
      " 2   company_size      8625 non-null   object \n",
      " 3   years_experience  8625 non-null   int64  \n",
      " 4   benefits_score    8625 non-null   float64\n",
      " 5   V1_office         8625 non-null   object \n",
      "dtypes: float64(1), int64(2), object(3)\n",
      "memory usage: 471.7+ KB\n"
     ]
    }
   ],
   "source": [
    "df_final = df_clean[df_clean['employment_type'].isin(['FT', 'FL', 'CL', 'CT'])].copy()\n",
    "\n",
    "df_final = df_final.drop(columns = 'employment_type')\n",
    "\n",
    "df_final.info()"
   ]
  },
  {
   "cell_type": "markdown",
   "id": "7bb04ba4",
   "metadata": {},
   "source": [
    "Having made sure we have checked for missing or null values (which we would have removed if found), excluded some jobs that aren't in line with Version 1 capabilities, we can now see which columns produce the most unique values:"
   ]
  },
  {
   "cell_type": "code",
   "execution_count": 164,
   "id": "38903077",
   "metadata": {},
   "outputs": [
    {
     "data": {
      "text/plain": [
       "company_size           3\n",
       "experience_level       4\n",
       "V1_office              5\n",
       "years_experience      20\n",
       "benefits_score        51\n",
       "salary_usd          8419\n",
       "dtype: int64"
      ]
     },
     "execution_count": 164,
     "metadata": {},
     "output_type": "execute_result"
    }
   ],
   "source": [
    "df_final.nunique().sort_values(ascending = True)"
   ]
  },
  {
   "cell_type": "markdown",
   "id": "3e84c35c",
   "metadata": {},
   "source": [
    "From this, the number of most unique values is obtained from the 'salary_usd' column. We can see what the distribution of the salaries looks like:"
   ]
  },
  {
   "cell_type": "code",
   "execution_count": 165,
   "id": "f45bc511",
   "metadata": {},
   "outputs": [
    {
     "data": {
      "text/plain": [
       "<Axes: xlabel='salary_usd', ylabel='Count'>"
      ]
     },
     "execution_count": 165,
     "metadata": {},
     "output_type": "execute_result"
    },
    {
     "data": {
      "image/png": "[encoded data removed]",
      "text/plain": [
       "<Figure size 640x480 with 1 Axes>"
      ]
     },
     "metadata": {},
     "output_type": "display_data"
    }
   ],
   "source": [
    "sb.histplot(data=df_final['salary_usd'], kde = True)"
   ]
  },
  {
   "cell_type": "markdown",
   "id": "92c8136b",
   "metadata": {},
   "source": [
    "While we have reduced the number of columns and reduced the number of rows to suit our needs, we still have data in our final frame that we will need to be converted from an object to a bool or numeric value. This will be done by labelling the columns and using one-hot encoding.\n",
    "\n",
    "The columns that need sorted are:\n",
    "- experience_level \n",
    "- company_size \n",
    "- V1_office  "
   ]
  },
  {
   "cell_type": "code",
   "execution_count": null,
   "id": "b752bba8",
   "metadata": {},
   "outputs": [
    {
     "name": "stdout",
     "output_type": "stream",
     "text": [
      "<class 'pandas.core.frame.DataFrame'>\n",
      "Index: 8625 entries, 1 to 14998\n",
      "Data columns (total 8 columns):\n",
      " #   Column               Non-Null Count  Dtype  \n",
      "---  ------               --------------  -----  \n",
      " 0   salary_usd           8625 non-null   int64  \n",
      " 1   company_size         8625 non-null   int64  \n",
      " 2   years_experience     8625 non-null   int64  \n",
      " 3   benefits_score       8625 non-null   float64\n",
      " 4   V1_office            8625 non-null   int64  \n",
      " 5   experience_level_EX  8625 non-null   bool   \n",
      " 6   experience_level_MI  8625 non-null   bool   \n",
      " 7   experience_level_SE  8625 non-null   bool   \n",
      "dtypes: bool(3), float64(1), int64(4)\n",
      "memory usage: 429.6 KB\n"
     ]
    }
   ],
   "source": [
    "from sklearn.preprocessing import LabelEncoder\n",
    "\n",
    "le = LabelEncoder()\n",
    "df_final['V1_office'] = le.fit_transform(df_final['V1_office'])\n",
    "df_final['company_size'] = le.fit_transform(df_final['company_size'])\n",
    "\n",
    "# One hot encoding the 'experience_level'\n",
    "\n",
    "dummies = pd.get_dummies(df_final[['experience_level']], drop_first = True)\n",
    "\n",
    "df_final = df_final.drop(columns='experience_level')\n",
    "df_final = pd.concat([df_final, dummies], axis = 1)\n",
    "df_final.info()"
   ]
  },
  {
   "cell_type": "markdown",
   "id": "c71b2048",
   "metadata": {},
   "source": [
    "## Building the model\n",
    "\n",
    "We could now create our 'X' and 'y' datasets, with 'salary_usd' being our prediction target:\n",
    "\n",
    "We will start with a 75/25 split between training and testing data, and a random_state of 42 (From the hitchhikers guide to the galaxy)"
   ]
  },
  {
   "cell_type": "code",
   "execution_count": 167,
   "id": "14d181d9",
   "metadata": {},
   "outputs": [
    {
     "name": "stdout",
     "output_type": "stream",
     "text": [
      "X_train shape: (6468, 7)\n",
      "y_train shape: (6468,)\n",
      "X_test shape: (2157, 7)\n",
      "y_test shape: (2157,)\n"
     ]
    }
   ],
   "source": [
    "from sklearn.model_selection import train_test_split\n",
    "y = df_final['salary_usd']\n",
    "X = df_final.drop(columns=['salary_usd'])\n",
    "\n",
    "X_train, X_test, y_train, y_test = train_test_split(X, y, test_size=0.25, random_state = 42)\n",
    "\n",
    "print(\"X_train shape:\", X_train.shape)\n",
    "print(\"y_train shape:\", y_train.shape)\n",
    "print(\"X_test shape:\", X_test.shape)\n",
    "print(\"y_test shape:\", y_test.shape)"
   ]
  },
  {
   "cell_type": "code",
   "execution_count": 168,
   "id": "e7df0f2d",
   "metadata": {},
   "outputs": [
    {
     "data": {
      "text/plain": [
       "<Axes: >"
      ]
     },
     "execution_count": 168,
     "metadata": {},
     "output_type": "execute_result"
    },
    {
     "data": {
      "image/png": "[encoded data removed]",
      "text/plain": [
       "<Figure size 640x480 with 2 Axes>"
      ]
     },
     "metadata": {},
     "output_type": "display_data"
    }
   ],
   "source": [
    "corr_mat = X_train.corr()\n",
    "sb.heatmap(corr_mat, annot = True)"
   ]
  }
 ],
 "metadata": {
  "kernelspec": {
   "display_name": "Python 3",
   "language": "python",
   "name": "python3"
  },
  "language_info": {
   "codemirror_mode": {
    "name": "ipython",
    "version": 3
   },
   "file_extension": ".py",
   "mimetype": "text/x-python",
   "name": "python",
   "nbconvert_exporter": "python",
   "pygments_lexer": "ipython3",
   "version": "3.12.5"
  }
 },
 "nbformat": 4,
 "nbformat_minor": 5
}
